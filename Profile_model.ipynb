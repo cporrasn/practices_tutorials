{
  "cells": [
    {
      "cell_type": "markdown",
      "metadata": {
        "id": "view-in-github",
        "colab_type": "text"
      },
      "source": [
        "<a href=\"https://colab.research.google.com/github/cporrasn/practices_tutorials/blob/main/Profile_model.ipynb\" target=\"_parent\"><img src=\"https://colab.research.google.com/assets/colab-badge.svg\" alt=\"Open In Colab\"/></a>"
      ]
    },
    {
      "cell_type": "markdown",
      "metadata": {
        "id": "yAh6JjgCB3R4"
      },
      "source": [
        "# Boltzmann learning of a profile model\n"
      ]
    },
    {
      "cell_type": "markdown",
      "metadata": {
        "id": "Iur7refEB3R8"
      },
      "source": [
        "## 0) Import packages"
      ]
    },
    {
      "cell_type": "code",
      "execution_count": 1,
      "metadata": {
        "id": "Yq0HPg1qB3R9"
      },
      "outputs": [],
      "source": [
        "import numpy as np\n",
        "from numpy.random import choice\n",
        "from matplotlib import pyplot as plt\n",
        "import scipy.stats as sc"
      ]
    },
    {
      "cell_type": "markdown",
      "metadata": {
        "id": "q0JkJI14B3R_"
      },
      "source": [
        "## 1) Process data"
      ]
    },
    {
      "cell_type": "markdown",
      "metadata": {
        "id": "TjdbNn3-B3SA"
      },
      "source": [
        "### 1.1) Import MSA"
      ]
    },
    {
      "cell_type": "markdown",
      "metadata": {
        "id": "f7pUSLaPB3SB"
      },
      "source": [
        "The format of the data is **.fasta**: \n",
        "* sequence  *descriptions* start with '**>**' and are followed by <font color = black > sequences </font>  on the next line. \n",
        "* sequences are *aligned*, that means that they have been preprocessed to all have the same length and the same patterns in the same position\n",
        "\n",
        "\n",
        "<b>Note:</b> \"-\" gaps are used to align the data and are treted as any other amino acid in our models. Usually they are found at the extremes of the sequences. \n"
      ]
    },
    {
      "cell_type": "code",
      "source": [
        "!git clone https://github.com/barthelemymp/Tutorials.git"
      ],
      "metadata": {
        "colab": {
          "base_uri": "https://localhost:8080/"
        },
        "id": "4TgWswtMENhW",
        "outputId": "b6749cb9-089b-476f-f9c2-b4346371e8a4"
      },
      "execution_count": 2,
      "outputs": [
        {
          "output_type": "stream",
          "name": "stdout",
          "text": [
            "Cloning into 'Tutorials'...\n",
            "remote: Enumerating objects: 23, done.\u001b[K\n",
            "remote: Counting objects: 100% (23/23), done.\u001b[K\n",
            "remote: Compressing objects: 100% (21/21), done.\u001b[K\n",
            "remote: Total 23 (delta 2), reused 8 (delta 0), pack-reused 0\u001b[K\n",
            "Unpacking objects: 100% (23/23), done.\n"
          ]
        }
      ]
    },
    {
      "cell_type": "code",
      "execution_count": 3,
      "metadata": {
        "colab": {
          "base_uri": "https://localhost:8080/"
        },
        "id": "lynhAukhB3SB",
        "outputId": "616eca96-88fd-457c-d38d-b4009149c91e"
      },
      "outputs": [
        {
          "output_type": "execute_result",
          "data": {
            "text/plain": [
              "['>1\\n',\n",
              " '-CLDELHPGRCSNYVERWYYDRGTKKCRSFQYGGCGGNRNHFYSKENCIFHC-\\n',\n",
              " '>2\\n',\n",
              " 'MCMEPLVSGTGEAALNRFAYNALTRQCLPFVYSGIGGNQNNFLSKASCEASC-\\n',\n",
              " '>3\\n',\n",
              " 'ACKLLQDIGPCKASVTRWSFDMSKGECVQFNYGGCKGNANNFESKEICEDRC-\\n',\n",
              " '>4\\n',\n",
              " '-CMLPVRHGNCNHEAQRWHFDFKNYRCTPFKYRGCEGNANNFLSENACRTACM\\n',\n",
              " '>5\\n',\n",
              " 'VCSQPLVIGNGNGNVTRWYADPEDQRCKPFTYSGSGGTQNNFLTKEECESSCR\\n']"
            ]
          },
          "metadata": {},
          "execution_count": 3
        }
      ],
      "source": [
        "datapath = \"Tutorials/Tutorial1/\"\n",
        "# read data \n",
        "data = open(datapath+'PF00014_train', 'r')\n",
        "seqs_tmp = data.readlines()\n",
        "data.close()\n",
        "\n",
        "# see data\n",
        "seqs_tmp[:10]"
      ]
    },
    {
      "cell_type": "markdown",
      "metadata": {
        "id": "LvLF50ZZB3SE"
      },
      "source": [
        "**EX.1** We want to keep only the sequences. How do you do it? Save results in a variable called `seqs_my`."
      ]
    },
    {
      "cell_type": "code",
      "execution_count": null,
      "metadata": {
        "id": "3El5Z9deB3SE"
      },
      "outputs": [],
      "source": []
    },
    {
      "cell_type": "code",
      "execution_count": 4,
      "metadata": {
        "colab": {
          "base_uri": "https://localhost:8080/"
        },
        "id": "hK_PPBUkB3SF",
        "outputId": "9f0739cb-b6b0-4d8a-c33f-9ed0e9453f9f"
      },
      "outputs": [
        {
          "output_type": "execute_result",
          "data": {
            "text/plain": [
              "['-CLDELHPGRCSNYVERWYYDRGTKKCRSFQYGGCGGNRNHFYSKENCIFHC-',\n",
              " 'MCMEPLVSGTGEAALNRFAYNALTRQCLPFVYSGIGGNQNNFLSKASCEASC-',\n",
              " 'ACKLLQDIGPCKASVTRWSFDMSKGECVQFNYGGCKGNANNFESKEICEDRC-',\n",
              " '-CMLPVRHGNCNHEAQRWHFDFKNYRCTPFKYRGCEGNANNFLSENACRTACM',\n",
              " 'VCSQPLVIGNGNGNVTRWYADPEDQRCKPFTYSGSGGTQNNFLTKEECESSCR']"
            ]
          },
          "metadata": {},
          "execution_count": 4
        }
      ],
      "source": [
        "#@title SOL.1\n",
        "# remove sequence descriptions\n",
        "seqs = [seqs_tmp[2*i + 1][:-1] for i in range( int( len(seqs_tmp) /2 ) )]\n",
        "\n",
        "# see data\n",
        "seqs[:5]"
      ]
    },
    {
      "cell_type": "markdown",
      "metadata": {
        "id": "xQBbTSr9B3SG"
      },
      "source": [
        "### 1.2) Compute single site frequencies"
      ]
    },
    {
      "cell_type": "code",
      "execution_count": 5,
      "metadata": {
        "id": "lhgFaj5AB3SG",
        "outputId": "45521905-32d9-4b3b-ddb7-0b52eae2b802",
        "colab": {
          "base_uri": "https://localhost:8080/",
          "height": 70
        }
      },
      "outputs": [
        {
          "output_type": "stream",
          "name": "stdout",
          "text": [
            "M = 3000, L = 53 \n",
            "\n"
          ]
        },
        {
          "output_type": "execute_result",
          "data": {
            "text/plain": [
              "''"
            ],
            "application/vnd.google.colaboratory.intrinsic+json": {
              "type": "string"
            }
          },
          "metadata": {},
          "execution_count": 5
        }
      ],
      "source": [
        "# get M and L\n",
        "M = np.size(seqs)\n",
        "L = len(seqs[0])\n",
        "q = 21\n",
        "print(f\"M = {M}, L = {L} \\n\")\n",
        "\n",
        "    \n",
        "# dictionary to convert the amino acids letters into integer numbers\n",
        "letter2number = {  '-': 20,'A': 0, 'C': 1, 'D':2, 'E':3, 'F':4, 'G':5,'H':6,'I':7,'K':8,'L':9,'M':10,\n",
        "       'N':11,'P':12,'Q':13,'R':14,'S':15,'T':16,'V':17, 'W':18, 'Y':19 }\n",
        ";"
      ]
    },
    {
      "cell_type": "markdown",
      "metadata": {
        "id": "UndN_i0oB3SG"
      },
      "source": [
        "**EX.2** Convert amino acids into numbers for the whole MSA"
      ]
    },
    {
      "cell_type": "code",
      "execution_count": null,
      "metadata": {
        "id": "Mx5dfHeRB3SH"
      },
      "outputs": [],
      "source": []
    },
    {
      "cell_type": "code",
      "execution_count": 6,
      "metadata": {
        "colab": {
          "base_uri": "https://localhost:8080/"
        },
        "id": "anan0mpVB3SH",
        "outputId": "7151c138-361b-4bf0-c227-d1b21cf064bd"
      },
      "outputs": [
        {
          "output_type": "execute_result",
          "data": {
            "text/plain": [
              "array([[20,  1,  9,  2,  3,  9,  6, 12,  5, 14,  1, 15, 11, 19, 17,  3,\n",
              "        14, 18, 19, 19,  2, 14,  5, 16,  8,  8,  1, 14, 15,  4, 13, 19,\n",
              "         5,  5,  1,  5,  5, 11, 14, 11,  6,  4, 19, 15,  8,  3, 11,  1,\n",
              "         7,  4,  6,  1, 20],\n",
              "       [10,  1, 10,  3, 12,  9, 17, 15,  5, 16,  5,  3,  0,  0,  9, 11,\n",
              "        14,  4,  0, 19, 11,  0,  9, 16, 14, 13,  1,  9, 12,  4, 17, 19,\n",
              "        15,  5,  7,  5,  5, 11, 13, 11, 11,  4,  9, 15,  8,  0, 15,  1,\n",
              "         3,  0, 15,  1, 20],\n",
              "       [ 0,  1,  8,  9,  9, 13,  2,  7,  5, 12,  1,  8,  0, 15, 17, 16,\n",
              "        14, 18, 15,  4,  2, 10, 15,  8,  5,  3,  1, 17, 13,  4, 11, 19,\n",
              "         5,  5,  1,  8,  5, 11,  0, 11, 11,  4,  3, 15,  8,  3,  7,  1,\n",
              "         3,  2, 14,  1, 20],\n",
              "       [20,  1, 10,  9, 12, 17, 14,  6,  5, 11,  1, 11,  6,  3,  0, 13,\n",
              "        14, 18,  6,  4,  2,  4,  8, 11, 19, 14,  1, 16, 12,  4,  8, 19,\n",
              "        14,  5,  1,  3,  5, 11,  0, 11, 11,  4,  9, 15,  3, 11,  0,  1,\n",
              "        14, 16,  0,  1, 10],\n",
              "       [17,  1, 15, 13, 12,  9, 17,  7,  5, 11,  5, 11,  5, 11, 17, 16,\n",
              "        14, 18, 19,  0,  2, 12,  3,  2, 13, 14,  1,  8, 12,  4, 16, 19,\n",
              "        15,  5, 15,  5,  5, 16, 13, 11, 11,  4,  9, 16,  8,  3,  3,  1,\n",
              "         3, 15, 15,  1, 14]])"
            ]
          },
          "metadata": {},
          "execution_count": 6
        }
      ],
      "source": [
        "#@title SOL.2\n",
        "# convert amino acids chars to numbers\n",
        "sequences = np.zeros((M,L)).astype(int)\n",
        "for m in range (M):\n",
        "    for i in range (L):\n",
        "        sequences[m,i]=letter2number[seqs[m][i]]  \n",
        "\n",
        "# see data \n",
        "sequences[:5]"
      ]
    },
    {
      "cell_type": "markdown",
      "metadata": {
        "id": "5VPCBokTB3SI"
      },
      "source": [
        "**EX.3** Now define a function called  `fasta2matrix_my` that takes as input the path and return the matrix"
      ]
    },
    {
      "cell_type": "code",
      "execution_count": null,
      "metadata": {
        "id": "yUyWjDuUB3SI"
      },
      "outputs": [],
      "source": []
    },
    {
      "cell_type": "markdown",
      "metadata": {
        "id": "noofb9g7B3SI"
      },
      "source": [
        "**SOL.3**"
      ]
    },
    {
      "cell_type": "code",
      "execution_count": 7,
      "metadata": {
        "id": "Wm6xe1emB3SI"
      },
      "outputs": [],
      "source": [
        "# takes \"path\" of the MSA as input, and returns matrix\n",
        "def fasta2matrix(path):\n",
        "    \n",
        "    data = open(path, 'r')\n",
        "    seqs_tmp = data.readlines()\n",
        "    data.close()\n",
        "    \n",
        "    seqs = [seqs_tmp[2*i + 1][:-1] for i in range( int( len(seqs_tmp) /2 ) )]\n",
        "    \n",
        "    M = np.size(seqs)\n",
        "    L = len(seqs[0])\n",
        "    \n",
        "    \n",
        "    sequences = np.zeros((M,L)).astype(int)\n",
        "    for m in range (M):\n",
        "        for i in range (L):\n",
        "            sequences[m,i]=letter2number[seqs[m][i]]  \n",
        "            \n",
        "    return sequences"
      ]
    },
    {
      "cell_type": "code",
      "execution_count": null,
      "metadata": {
        "id": "GheSmhfAB3SJ"
      },
      "outputs": [],
      "source": []
    },
    {
      "cell_type": "code",
      "execution_count": 8,
      "metadata": {
        "id": "cWy_DVPwB3SJ"
      },
      "outputs": [],
      "source": [
        "# initialize frequencies\n",
        "counts_tmp = np.zeros((q, L)).astype(float)\n",
        "\n",
        "# compute amino acid counts\n",
        "for m in range(M):\n",
        "    for i in range(L):\n",
        "        amino = sequences[m][i]\n",
        "        counts_tmp[amino][i] += 1\n",
        "        \n",
        "# normalize counts\n",
        "freqs_tmp = counts_tmp / M \n",
        "\n",
        "\n",
        "\n",
        "\n",
        "\n",
        "# create a function out of that\n",
        "def get_freqs(MSA, q = 21):\n",
        "    M, L = np.shape(MSA)\n",
        "    freqs_tmp = np.zeros((q, L)).astype(float)\n",
        "\n",
        "    for m in range(M):\n",
        "        for i in range(L):\n",
        "            amino = MSA[m][i]\n",
        "            freqs_tmp[amino][i] += 1\n",
        "\n",
        "    return freqs_tmp / M     "
      ]
    },
    {
      "cell_type": "markdown",
      "metadata": {
        "id": "rQ7W7-BLB3SK"
      },
      "source": [
        "**EX.4** Verify that the sum of the frequencies along the columns is 1"
      ]
    },
    {
      "cell_type": "code",
      "execution_count": null,
      "metadata": {
        "id": "5FfRTM4CB3SK"
      },
      "outputs": [],
      "source": []
    },
    {
      "cell_type": "code",
      "execution_count": 9,
      "metadata": {
        "id": "0HCyYmpgB3SK",
        "outputId": "bee3f9c8-b63f-445e-c92c-c02609cd506d",
        "colab": {
          "base_uri": "https://localhost:8080/"
        }
      },
      "outputs": [
        {
          "output_type": "execute_result",
          "data": {
            "text/plain": [
              "True"
            ]
          },
          "metadata": {},
          "execution_count": 9
        }
      ],
      "source": [
        "#@title SOL.4\n",
        "sum(sum(freqs_tmp)) == L"
      ]
    },
    {
      "cell_type": "code",
      "execution_count": 10,
      "metadata": {
        "id": "VqzdOtTUB3SL"
      },
      "outputs": [],
      "source": [
        "# add pseucounts\n",
        "pseudocount = 1/M\n",
        "freqs = pseudocount/q + (1 - pseudocount) * freqs_tmp\n"
      ]
    },
    {
      "cell_type": "markdown",
      "metadata": {
        "id": "BJc3iUFVB3SL"
      },
      "source": [
        "## 2) Learn the model"
      ]
    },
    {
      "cell_type": "code",
      "execution_count": 11,
      "metadata": {
        "id": "G3Xcv-OOB3SM"
      },
      "outputs": [],
      "source": [
        "## DEFINE USEFUL FUNCTIONS ##\n",
        "\n",
        "# sample sequences from the model\n",
        "def MC_sampler(model, nsample):\n",
        "    q, L = np.shape(model) \n",
        "    seqs = choice(range(q), (nsample,L))\n",
        "    \n",
        "    for m in range(nsample):\n",
        "        for site in range(L):\n",
        "            a = sample_amino(model, site)\n",
        "            seqs[m][site] = a\n",
        "    return seqs\n",
        "\n",
        "# normalize vector to 1    \n",
        "def normalize(vec):\n",
        "    return vec/np.sum(vec)\n",
        "\n",
        "# sample single amino acid\n",
        "def sample_amino(model, site):\n",
        "    q, L = np.shape(model)\n",
        "    p = normalize(np.exp(model[:, site]))\n",
        "    return choice(range(q),  p = p)\n",
        "        "
      ]
    },
    {
      "cell_type": "markdown",
      "metadata": {
        "id": "6ZMsDQo9B3SM"
      },
      "source": [
        "### 2.1) Define learning functions"
      ]
    },
    {
      "cell_type": "markdown",
      "metadata": {
        "id": "llGIoYlqB3SM"
      },
      "source": [
        "**EX.5** We need to implement the function performing Boltzmann learning. Name it `learn_model_my`\n",
        "\n",
        "Input: \n",
        "- `freqs`: empirical frequencies\n",
        "\n",
        "\n",
        "\n",
        "\n",
        "Parameters:\n",
        "- `lr`: learning rate\n",
        "- `nsample`: number of samples needed to estimate the model frequencies\n",
        "- `t_learn`: number of iterations\n",
        "\n",
        "\n",
        "Output:\n",
        "- `model`: matrix(q, L)\n"
      ]
    },
    {
      "cell_type": "code",
      "execution_count": null,
      "metadata": {
        "id": "n7haIf4dB3SM"
      },
      "outputs": [],
      "source": []
    },
    {
      "cell_type": "code",
      "execution_count": null,
      "metadata": {
        "id": "E7-RMm27B3SN"
      },
      "outputs": [],
      "source": [
        "#@title SOL.5\n",
        "def learn_model(freqs, lr = 0.1, nsample = 50, t_learn = 50):\n",
        "    q, L = np.shape(freqs) \n",
        "    model = 0.0 * np.zeros((q, L))\n",
        "\n",
        "    err_vec = np.zeros(t_learn)\n",
        "    \n",
        "    for t in range(t_learn):\n",
        "        sample = MC_sampler(model, nsample) \n",
        "        freqs_MC = get_freqs(sample)\n",
        "        model += lr*(freqs - freqs_MC)\n",
        "        \n",
        "        err_vec[t]  = sum(sum( (freqs - freqs_MC)**2 ))\n",
        "    return model, err_vec\n",
        "\n"
      ]
    },
    {
      "cell_type": "markdown",
      "metadata": {
        "id": "swz9j-NqB3SN"
      },
      "source": [
        "#### Let's learn our first model!!"
      ]
    },
    {
      "cell_type": "code",
      "execution_count": null,
      "metadata": {
        "id": "2t_7X5DWB3SN"
      },
      "outputs": [],
      "source": [
        "# define learning paramters\n",
        "lr = 0.05\n",
        "nsample = 100\n",
        "t_learn = 15\n",
        "\n",
        "# learn the model\n",
        "model, err = learn_model(freqs, lr = lr, nsample = nsample, t_learn = t_learn)"
      ]
    },
    {
      "cell_type": "markdown",
      "metadata": {
        "id": "5tTm7D0EB3SO"
      },
      "source": [
        "### 2.2) Model error"
      ]
    },
    {
      "cell_type": "code",
      "execution_count": null,
      "metadata": {
        "id": "0vtlkyqOB3SO",
        "outputId": "9b8aa6e7-c4b2-416b-a5d0-ace6cceb62e4",
        "colab": {
          "base_uri": "https://localhost:8080/",
          "height": 302
        }
      },
      "outputs": [
        {
          "output_type": "execute_result",
          "data": {
            "text/plain": [
              "Text(0, 0.5, 'Total error')"
            ]
          },
          "metadata": {},
          "execution_count": 14
        },
        {
          "output_type": "display_data",
          "data": {
            "text/plain": [
              "<Figure size 432x288 with 1 Axes>"
            ],
            "image/png": "[encoded data removed]"
          },
          "metadata": {
            "needs_background": "light"
          }
        }
      ],
      "source": [
        "plt.plot(range(0,t_learn, 1),  err[0:t_learn], marker = \"o\")\n",
        "plt.xlabel(\"Iterations\", fontsize = 15)\n",
        "plt.ylabel(\"Total error\", fontsize = 15)\n"
      ]
    },
    {
      "cell_type": "markdown",
      "metadata": {
        "id": "uz3lVAceB3SO"
      },
      "source": [
        "**EX.6** The learning parameters don't seem well tunen. Change them smartly to achieve good learning in short time"
      ]
    },
    {
      "cell_type": "markdown",
      "metadata": {
        "id": "P5JgguOMB3SO"
      },
      "source": [
        "**SOL.6** \n",
        "\n",
        "\n",
        "Good parameters:\n",
        "- `lr`: 0.3\n",
        "- `nsample`: 100\n",
        "- `t_learn`: 100\n"
      ]
    },
    {
      "cell_type": "code",
      "execution_count": null,
      "metadata": {
        "id": "Tr2N1v18B3SP"
      },
      "outputs": [],
      "source": [
        "model, err = learn_model(freqs, lr = 0.3, nsample = 100, t_learn = 100)"
      ]
    },
    {
      "cell_type": "markdown",
      "metadata": {
        "id": "JTdj8bmJB3SP"
      },
      "source": [
        "### 2.3) Generative properties"
      ]
    },
    {
      "cell_type": "code",
      "execution_count": null,
      "metadata": {
        "id": "SD_UPaUkB3SP"
      },
      "outputs": [],
      "source": [
        "# sample sequences from the model (the funciton is a bit slow)\n",
        "sequences_samp = MC_sampler(model, nsample = M)\n",
        "\n",
        "# get frequencies\n",
        "freqs_learned = get_freqs(sequences_samp)\n"
      ]
    },
    {
      "cell_type": "code",
      "execution_count": null,
      "metadata": {
        "id": "j47SvR6qB3SP",
        "outputId": "d5528988-8197-421e-8da0-09d72d5f0f39",
        "colab": {
          "base_uri": "https://localhost:8080/",
          "height": 302
        }
      },
      "outputs": [
        {
          "output_type": "execute_result",
          "data": {
            "text/plain": [
              "Text(0, 0.5, 'Empirical frequencies ')"
            ]
          },
          "metadata": {},
          "execution_count": 17
        },
        {
          "output_type": "display_data",
          "data": {
            "text/plain": [
              "<Figure size 432x288 with 1 Axes>"
            ],
            "image/png": "[encoded data removed]"
          },
          "metadata": {
            "needs_background": "light"
          }
        }
      ],
      "source": [
        "# compare empirical and model frequencies\n",
        "plt.scatter(freqs_learned, freqs, alpha = .5)\n",
        "plt.xlabel(\"Learned frequecies\", fontsize = 15)\n",
        "plt.ylabel(\"Empirical frequencies \", fontsize = 15)"
      ]
    },
    {
      "cell_type": "code",
      "execution_count": null,
      "metadata": {
        "id": "A51nMs0cB3SQ",
        "outputId": "c0382b25-48a4-4399-adee-42951c78815f",
        "colab": {
          "base_uri": "https://localhost:8080/"
        }
      },
      "outputs": [
        {
          "output_type": "execute_result",
          "data": {
            "text/plain": [
              "0.9967872143202352"
            ]
          },
          "metadata": {},
          "execution_count": 18
        }
      ],
      "source": [
        "# compute pearson correlation\n",
        "sc.pearsonr( freqs.flatten(), freqs_learned.flatten())[0]"
      ]
    },
    {
      "cell_type": "code",
      "execution_count": null,
      "metadata": {
        "id": "LgTceX0_B3SR"
      },
      "outputs": [],
      "source": [
        "def gauge(matrix):\n",
        "    matrix_copy = np.exp(np.copy(matrix))\n",
        "    q, L = np.shape(matrix) \n",
        "    for site in range(L):\n",
        "        matrix_copy[:, site] /= sum( matrix_copy[:, site]  )\n",
        "    return np.log(matrix_copy)\n",
        "\n",
        "# analytical value of the fields\n",
        "h_emp = np.log(freqs)\n",
        "\n",
        "# fix the gauge to compare them\n",
        "h_emp_gauge = gauge(h_emp)\n",
        "model_gauge = gauge(model)\n"
      ]
    },
    {
      "cell_type": "code",
      "execution_count": null,
      "metadata": {
        "id": "b3YjtxfDB3SR",
        "outputId": "d3b24293-d1c3-4365-c1f4-eb3914466743",
        "colab": {
          "base_uri": "https://localhost:8080/",
          "height": 302
        }
      },
      "outputs": [
        {
          "output_type": "execute_result",
          "data": {
            "text/plain": [
              "Text(0, 0.5, 'Analytical fields ')"
            ]
          },
          "metadata": {},
          "execution_count": 20
        },
        {
          "output_type": "display_data",
          "data": {
            "text/plain": [
              "<Figure size 432x288 with 1 Axes>"
            ],
            "image/png": "[encoded data removed]"
          },
          "metadata": {
            "needs_background": "light"
          }
        }
      ],
      "source": [
        "plt.scatter(model_gauge.flatten(), h_emp.flatten(), alpha = .5)\n",
        "plt.xlabel(\"Learned fields\", fontsize = 15)\n",
        "plt.ylabel(\"Analytical fields \", fontsize = 15)"
      ]
    },
    {
      "cell_type": "markdown",
      "metadata": {
        "id": "H09dLKSkB3SS"
      },
      "source": [
        "## 3) Energies"
      ]
    },
    {
      "cell_type": "markdown",
      "metadata": {
        "id": "LVEjFjomB3SS"
      },
      "source": [
        "**EX.7** Let's write down the function to compute sequence energy\n",
        "`my_energy`\n",
        "\n",
        "Input: \n",
        "- `freqs`: model\n",
        "- `seq`: sequence"
      ]
    },
    {
      "cell_type": "code",
      "execution_count": null,
      "metadata": {
        "id": "BkUaK9uNB3SS"
      },
      "outputs": [],
      "source": []
    },
    {
      "cell_type": "code",
      "execution_count": null,
      "metadata": {
        "id": "NAXAV54-B3ST"
      },
      "outputs": [],
      "source": [
        "#@title SOL.6\n",
        "# energy of a sequence\n",
        "def energy(model, seq):\n",
        "    L = len(seq)\n",
        "    E = 0\n",
        "    for site in range(L):\n",
        "        amino = seq[site]\n",
        "        E += model[amino][site]\n",
        "        \n",
        "    return -E\n",
        "\n"
      ]
    },
    {
      "cell_type": "markdown",
      "metadata": {
        "id": "-hWsxJXQB3ST"
      },
      "source": [
        "### 3.1) Energy comparison"
      ]
    },
    {
      "cell_type": "code",
      "execution_count": null,
      "metadata": {
        "id": "tboQtJVWB3ST",
        "outputId": "8897ae79-c7e3-4158-9fea-012947142e94",
        "colab": {
          "base_uri": "https://localhost:8080/",
          "height": 283
        }
      },
      "outputs": [
        {
          "output_type": "execute_result",
          "data": {
            "text/plain": [
              "<matplotlib.legend.Legend at 0x7f6278f0b410>"
            ]
          },
          "metadata": {},
          "execution_count": 22
        },
        {
          "output_type": "display_data",
          "data": {
            "text/plain": [
              "<Figure size 432x288 with 1 Axes>"
            ],
            "image/png": "[encoded data removed]"
          },
          "metadata": {
            "needs_background": "light"
          }
        }
      ],
      "source": [
        "# Compare the energies of the natural and of the generated sequences\n",
        "plt.hist([energy(model, sequences[i, :]) for i in range(M)],\n",
        "         alpha = 0.5, label = \"Nat\")\n",
        "plt.hist([energy(model, sequences_samp[i, :]) for i in range(M)], \n",
        "         alpha = 0.5, label = \"Sil\")\n",
        "plt.legend()"
      ]
    },
    {
      "cell_type": "code",
      "execution_count": null,
      "metadata": {
        "id": "MrT6vT3RB3ST",
        "outputId": "8fb9e140-3546-4737-d74b-52827ca98b34",
        "colab": {
          "base_uri": "https://localhost:8080/",
          "height": 283
        }
      },
      "outputs": [
        {
          "output_type": "execute_result",
          "data": {
            "text/plain": [
              "<matplotlib.legend.Legend at 0x7f6278ee8dd0>"
            ]
          },
          "metadata": {},
          "execution_count": 23
        },
        {
          "output_type": "display_data",
          "data": {
            "text/plain": [
              "<Figure size 432x288 with 1 Axes>"
            ],
            "image/png": "[encoded data removed]"
          },
          "metadata": {
            "needs_background": "light"
          }
        }
      ],
      "source": [
        "#Let's compare the energies of randomly generated sequences with natural ones\n",
        "plt.hist([energy(model, sequences[i, :]) for i in range(M)],\n",
        "         alpha = 0.5, label = \"Nat\")\n",
        "plt.hist([energy(model,  choice(range(q), (L))) for i in range(M)], \n",
        "         alpha = 0.5, label = \"Rand\")\n",
        "plt.legend()"
      ]
    },
    {
      "cell_type": "markdown",
      "metadata": {
        "id": "JaSYT5TfB3SU"
      },
      "source": [
        "**EX.7** Compute energies for the test set sequences and verify that they are reasonable.\n",
        "\n",
        "- Input file: `PF00014_test`"
      ]
    },
    {
      "cell_type": "code",
      "execution_count": null,
      "metadata": {
        "id": "jvAZrszJB3SU"
      },
      "outputs": [],
      "source": []
    },
    {
      "cell_type": "code",
      "execution_count": null,
      "metadata": {
        "id": "M-xV6ZYlB3SV",
        "outputId": "9eda32af-b27b-4db5-951b-fd16966d4df8",
        "colab": {
          "base_uri": "https://localhost:8080/",
          "height": 286
        }
      },
      "outputs": [
        {
          "output_type": "execute_result",
          "data": {
            "text/plain": [
              "<matplotlib.legend.Legend at 0x7f62781f50d0>"
            ]
          },
          "metadata": {},
          "execution_count": 27
        },
        {
          "output_type": "display_data",
          "data": {
            "text/plain": [
              "<Figure size 432x288 with 1 Axes>"
            ],
            "image/png": "[encoded data removed]"
          },
          "metadata": {
            "needs_background": "light"
          }
        }
      ],
      "source": [
        "#@title SOL.7\n",
        "#Import test set and get dimensions\n",
        "MSA_test = fasta2matrix(datapath+\"PF00014_test\")\n",
        "M_test, L = np.shape(MSA_test)\n",
        "\n",
        "#Replot train set energies\n",
        "plt.hist([energy(model, sequences[i, :]) for i in range(M)],\n",
        "         alpha = 0.5, label = \"Train\", density = True)\n",
        "\n",
        "#Plot test set energies\n",
        "plt.hist([energy(model, MSA_test[i, :] ) for i in range(M_test)], \n",
        "         alpha = 0.5, label = \"Test\", density = True)\n",
        "\n",
        "#Generate legend\n",
        "plt.legend()"
      ]
    },
    {
      "cell_type": "markdown",
      "metadata": {
        "id": "LM6gOuL9B3SV"
      },
      "source": [
        "### 3.2) Family assignment problem"
      ]
    },
    {
      "cell_type": "markdown",
      "metadata": {
        "id": "GgbTyLG2B3SV"
      },
      "source": [
        "Suppose to have a brand new sequence and you don't know its protein family. How would you exploit the model to guess it?"
      ]
    },
    {
      "cell_type": "code",
      "execution_count": null,
      "metadata": {
        "id": "5ysa9GNpB3SV"
      },
      "outputs": [],
      "source": [
        "# Import MSA's of two families to learn models\n",
        "MSA_1 = fasta2matrix(datapath+\"PF00014_train\")\n",
        "MSA_2 = fasta2matrix(datapath+\"betalactam_train\")\n",
        "\n",
        "M, L = np.shape(MSA_1)\n",
        "\n",
        "#Import MSA of test sequences\n",
        "MSA_test = fasta2matrix(datapath+\"test_mixed.fasta\")\n",
        "\n",
        "M_test, L = np.shape(MSA_test)"
      ]
    },
    {
      "cell_type": "code",
      "execution_count": null,
      "metadata": {
        "id": "PG2kAoYXB3SW"
      },
      "outputs": [],
      "source": [
        "model_1, _ = learn_model(get_freqs(MSA_1), lr = 0.3, nsample = 50, t_learn = 10)\n",
        "model_2, _ = learn_model(get_freqs(MSA_2), lr = 0.3, nsample = 50, t_learn = 10)\n",
        "\n"
      ]
    },
    {
      "cell_type": "code",
      "execution_count": null,
      "metadata": {
        "id": "CFOuKlsdB3SW"
      },
      "outputs": [],
      "source": [
        "energy_test = [energy(model_1, MSA_test[i, :])  for i in range(M_test) ]\n",
        "energy_train_1 = [energy(model_1, MSA_1[i, :])  for i in range(M) ]\n"
      ]
    },
    {
      "cell_type": "markdown",
      "metadata": {
        "id": "rYu1jMSpB3SX"
      },
      "source": [
        "**EX.8** Can you visualize the difference?"
      ]
    },
    {
      "cell_type": "code",
      "execution_count": null,
      "metadata": {
        "id": "1WcvuMoUB3SY",
        "outputId": "a6ac2ac0-410b-4c55-af95-7bc0aa3746b2",
        "colab": {
          "base_uri": "https://localhost:8080/",
          "height": 283
        }
      },
      "outputs": [
        {
          "output_type": "execute_result",
          "data": {
            "text/plain": [
              "<matplotlib.legend.Legend at 0x7f62780c1990>"
            ]
          },
          "metadata": {},
          "execution_count": 33
        },
        {
          "output_type": "display_data",
          "data": {
            "text/plain": [
              "<Figure size 432x288 with 1 Axes>"
            ],
            "image/png": "[encoded data removed]"
          },
          "metadata": {
            "needs_background": "light"
          }
        }
      ],
      "source": [
        "#@title SOL.8\n",
        "plt.hist(energy_train_1,density = True, alpha = 0.5, label = \"Train\")\n",
        "plt.hist(energy_test,density = True, alpha = 0.5, label = \"Test\")\n",
        "plt.legend()"
      ]
    }
  ],
  "metadata": {
    "kernelspec": {
      "display_name": "Python 3",
      "language": "python",
      "name": "python3"
    },
    "language_info": {
      "codemirror_mode": {
        "name": "ipython",
        "version": 3
      },
      "file_extension": ".py",
      "mimetype": "text/x-python",
      "name": "python",
      "nbconvert_exporter": "python",
      "pygments_lexer": "ipython3",
      "version": "3.8.3"
    },
    "colab": {
      "provenance": [],
      "include_colab_link": true
    }
  },
  "nbformat": 4,
  "nbformat_minor": 0
}